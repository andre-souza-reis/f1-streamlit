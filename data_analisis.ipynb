{
 "cells": [
  {
   "cell_type": "code",
   "execution_count": 2,
   "metadata": {},
   "outputs": [
    {
     "name": "stderr",
     "output_type": "stream",
     "text": [
      "c:\\Users\\andre.de.souza.reis\\Anaconda\\envs\\streamlit\\lib\\site-packages\\fuzzywuzzy\\fuzz.py:11: UserWarning: Using slow pure-python SequenceMatcher. Install python-Levenshtein to remove this warning\n",
      "  warnings.warn('Using slow pure-python SequenceMatcher. Install python-Levenshtein to remove this warning')\n"
     ]
    }
   ],
   "source": [
    "import requests\n",
    "import pandas as pd\n",
    "from fuzzywuzzy import fuzz\n",
    "from fuzzywuzzy import process\n",
    "import wikipedia\n",
    "from PIL import Image\n",
    "from io import BytesIO\n"
   ]
  },
  {
   "cell_type": "code",
   "execution_count": 42,
   "metadata": {},
   "outputs": [],
   "source": [
    "data = requests.request(\"GET\", 'http://ergast.com/api/f1/drivers?limit=10000').text\n",
    "pilots = pd.read_xml(\n",
    "    data,\n",
    "    namespaces = {'doc': \"http://ergast.com/mrd/1.5\"},\n",
    "    xpath = './/doc:Driver'\n",
    "    )\n",
    "pilots = pilots.assign(Name = pilots[['GivenName', 'FamilyName']].apply(' '.join, axis = 1)).drop(['GivenName', 'FamilyName'], axis = 1)\n",
    "# simmilar = process.extractBests(\"Lewis\", pilots['Name'].to_list(), limit = 10, score_cutoff=80)\n",
    "\n",
    "# a = []\n",
    "# for i in simmilar:\n",
    "#     a.append(i[0])\n",
    "# tuple(a)"
   ]
  },
  {
   "cell_type": "code",
   "execution_count": 43,
   "metadata": {},
   "outputs": [
    {
     "data": {
      "text/html": [
       "<div>\n",
       "<style scoped>\n",
       "    .dataframe tbody tr th:only-of-type {\n",
       "        vertical-align: middle;\n",
       "    }\n",
       "\n",
       "    .dataframe tbody tr th {\n",
       "        vertical-align: top;\n",
       "    }\n",
       "\n",
       "    .dataframe thead th {\n",
       "        text-align: right;\n",
       "    }\n",
       "</style>\n",
       "<table border=\"1\" class=\"dataframe\">\n",
       "  <thead>\n",
       "    <tr style=\"text-align: right;\">\n",
       "      <th></th>\n",
       "      <th>driverId</th>\n",
       "      <th>url</th>\n",
       "      <th>DateOfBirth</th>\n",
       "      <th>Nationality</th>\n",
       "      <th>code</th>\n",
       "      <th>PermanentNumber</th>\n",
       "      <th>Name</th>\n",
       "    </tr>\n",
       "  </thead>\n",
       "  <tbody>\n",
       "    <tr>\n",
       "      <th>0</th>\n",
       "      <td>abate</td>\n",
       "      <td>http://en.wikipedia.org/wiki/Carlo_Mario_Abate</td>\n",
       "      <td>1932-07-10</td>\n",
       "      <td>Italian</td>\n",
       "      <td>None</td>\n",
       "      <td>NaN</td>\n",
       "      <td>Carlo Abate</td>\n",
       "    </tr>\n",
       "    <tr>\n",
       "      <th>1</th>\n",
       "      <td>abecassis</td>\n",
       "      <td>http://en.wikipedia.org/wiki/George_Abecassis</td>\n",
       "      <td>1913-03-21</td>\n",
       "      <td>British</td>\n",
       "      <td>None</td>\n",
       "      <td>NaN</td>\n",
       "      <td>George Abecassis</td>\n",
       "    </tr>\n",
       "    <tr>\n",
       "      <th>2</th>\n",
       "      <td>acheson</td>\n",
       "      <td>http://en.wikipedia.org/wiki/Kenny_Acheson</td>\n",
       "      <td>1957-11-27</td>\n",
       "      <td>British</td>\n",
       "      <td>None</td>\n",
       "      <td>NaN</td>\n",
       "      <td>Kenny Acheson</td>\n",
       "    </tr>\n",
       "    <tr>\n",
       "      <th>3</th>\n",
       "      <td>adams</td>\n",
       "      <td>http://en.wikipedia.org/wiki/Philippe_Adams</td>\n",
       "      <td>1969-11-19</td>\n",
       "      <td>Belgian</td>\n",
       "      <td>None</td>\n",
       "      <td>NaN</td>\n",
       "      <td>Philippe Adams</td>\n",
       "    </tr>\n",
       "    <tr>\n",
       "      <th>4</th>\n",
       "      <td>ader</td>\n",
       "      <td>http://en.wikipedia.org/wiki/Walt_Ader</td>\n",
       "      <td>1913-12-15</td>\n",
       "      <td>American</td>\n",
       "      <td>None</td>\n",
       "      <td>NaN</td>\n",
       "      <td>Walt Ader</td>\n",
       "    </tr>\n",
       "    <tr>\n",
       "      <th>...</th>\n",
       "      <td>...</td>\n",
       "      <td>...</td>\n",
       "      <td>...</td>\n",
       "      <td>...</td>\n",
       "      <td>...</td>\n",
       "      <td>...</td>\n",
       "      <td>...</td>\n",
       "    </tr>\n",
       "    <tr>\n",
       "      <th>849</th>\n",
       "      <td>zapico</td>\n",
       "      <td>http://en.wikipedia.org/wiki/Emilio_Zapico</td>\n",
       "      <td>1944-05-27</td>\n",
       "      <td>Spanish</td>\n",
       "      <td>None</td>\n",
       "      <td>NaN</td>\n",
       "      <td>Emilio Zapico</td>\n",
       "    </tr>\n",
       "    <tr>\n",
       "      <th>850</th>\n",
       "      <td>zhou</td>\n",
       "      <td>http://en.wikipedia.org/wiki/Guanyu_Zhou</td>\n",
       "      <td>1999-05-30</td>\n",
       "      <td>Chinese</td>\n",
       "      <td>ZHO</td>\n",
       "      <td>24.0</td>\n",
       "      <td>Guanyu Zhou</td>\n",
       "    </tr>\n",
       "    <tr>\n",
       "      <th>851</th>\n",
       "      <td>zonta</td>\n",
       "      <td>http://en.wikipedia.org/wiki/Ricardo_Zonta</td>\n",
       "      <td>1976-03-23</td>\n",
       "      <td>Brazilian</td>\n",
       "      <td>ZON</td>\n",
       "      <td>NaN</td>\n",
       "      <td>Ricardo Zonta</td>\n",
       "    </tr>\n",
       "    <tr>\n",
       "      <th>852</th>\n",
       "      <td>zorzi</td>\n",
       "      <td>http://en.wikipedia.org/wiki/Renzo_Zorzi</td>\n",
       "      <td>1946-12-12</td>\n",
       "      <td>Italian</td>\n",
       "      <td>None</td>\n",
       "      <td>NaN</td>\n",
       "      <td>Renzo Zorzi</td>\n",
       "    </tr>\n",
       "    <tr>\n",
       "      <th>853</th>\n",
       "      <td>zunino</td>\n",
       "      <td>http://en.wikipedia.org/wiki/Ricardo_Zunino</td>\n",
       "      <td>1949-04-13</td>\n",
       "      <td>Argentine</td>\n",
       "      <td>None</td>\n",
       "      <td>NaN</td>\n",
       "      <td>Ricardo Zunino</td>\n",
       "    </tr>\n",
       "  </tbody>\n",
       "</table>\n",
       "<p>854 rows × 7 columns</p>\n",
       "</div>"
      ],
      "text/plain": [
       "      driverId                                             url DateOfBirth  \\\n",
       "0        abate  http://en.wikipedia.org/wiki/Carlo_Mario_Abate  1932-07-10   \n",
       "1    abecassis   http://en.wikipedia.org/wiki/George_Abecassis  1913-03-21   \n",
       "2      acheson      http://en.wikipedia.org/wiki/Kenny_Acheson  1957-11-27   \n",
       "3        adams     http://en.wikipedia.org/wiki/Philippe_Adams  1969-11-19   \n",
       "4         ader          http://en.wikipedia.org/wiki/Walt_Ader  1913-12-15   \n",
       "..         ...                                             ...         ...   \n",
       "849     zapico      http://en.wikipedia.org/wiki/Emilio_Zapico  1944-05-27   \n",
       "850       zhou        http://en.wikipedia.org/wiki/Guanyu_Zhou  1999-05-30   \n",
       "851      zonta      http://en.wikipedia.org/wiki/Ricardo_Zonta  1976-03-23   \n",
       "852      zorzi        http://en.wikipedia.org/wiki/Renzo_Zorzi  1946-12-12   \n",
       "853     zunino     http://en.wikipedia.org/wiki/Ricardo_Zunino  1949-04-13   \n",
       "\n",
       "    Nationality  code  PermanentNumber              Name  \n",
       "0       Italian  None              NaN       Carlo Abate  \n",
       "1       British  None              NaN  George Abecassis  \n",
       "2       British  None              NaN     Kenny Acheson  \n",
       "3       Belgian  None              NaN    Philippe Adams  \n",
       "4      American  None              NaN         Walt Ader  \n",
       "..          ...   ...              ...               ...  \n",
       "849     Spanish  None              NaN     Emilio Zapico  \n",
       "850     Chinese   ZHO             24.0       Guanyu Zhou  \n",
       "851   Brazilian   ZON              NaN     Ricardo Zonta  \n",
       "852     Italian  None              NaN       Renzo Zorzi  \n",
       "853   Argentine  None              NaN    Ricardo Zunino  \n",
       "\n",
       "[854 rows x 7 columns]"
      ]
     },
     "execution_count": 43,
     "metadata": {},
     "output_type": "execute_result"
    }
   ],
   "source": [
    "pilots"
   ]
  },
  {
   "cell_type": "code",
   "execution_count": null,
   "metadata": {},
   "outputs": [],
   "source": [
    "# text = requests.request(\"GET\", 'http://en.wikipedia.org/wiki/Lewis_Hamilton').text\n",
    "\n",
    "# sample = \"//upload.wikimedia.org/wikipedia/commons/thumb\"\n",
    "\n",
    "# start = text.find(sample)\n",
    "# end = text[start:].find('\"')\n",
    "\n",
    "# 'https:' + text[start:(start + end)]"
   ]
  },
  {
   "cell_type": "code",
   "execution_count": null,
   "metadata": {},
   "outputs": [],
   "source": [
    "# text = requests.request(\"GET\", pilots[pilots['Name'] == 'Lewis Hamilton']['url'].values[0]).text\n",
    "\n",
    "# sample = \"//upload.wikimedia.org/wikipedia/commons/thumb\"\n",
    "\n",
    "# start = text.find(sample)\n",
    "# end = text[start:].find('\"')\n",
    "\n",
    "# 'https:' + text[start:(start + end)]"
   ]
  },
  {
   "cell_type": "code",
   "execution_count": null,
   "metadata": {},
   "outputs": [],
   "source": [
    "# url = 'https://upload.wikimedia.org/wikipedia/commons/thumb/1/18/Lewis_Hamilton_2016_Malaysia_2.jpg/640px-Lewis_Hamilton_2016_Malaysia_2.jpg'\n",
    "\n",
    "# response = requests.get(url)\n",
    "\n",
    "# Image.open(BytesIO(response.content))"
   ]
  },
  {
   "cell_type": "code",
   "execution_count": 5,
   "metadata": {},
   "outputs": [
    {
     "data": {
      "text/plain": [
       "'<?xml version=\"1.0\" encoding=\"utf-8\"?>\\n<?xml-stylesheet type=\"text/xsl\" href=\"/schemas/mrd-1.5.xsl\"?>\\n<MRData xmlns=\"http://ergast.com/mrd/1.5\" series=\"f1\" url=\"http://ergast.com/api/f1/drivers/alonso\" limit=\"30\" offset=\"0\" total=\"1\">\\n\\t<DriverTable driverId=\"alonso\">\\n\\t\\t<Driver driverId=\"alonso\" code=\"ALO\" url=\"http://en.wikipedia.org/wiki/Fernando_Alonso\">\\n\\t\\t\\t<PermanentNumber>14</PermanentNumber>\\n\\t\\t\\t<GivenName>Fernando</GivenName>\\n\\t\\t\\t<FamilyName>Alonso</FamilyName>\\n\\t\\t\\t<DateOfBirth>1981-07-29</DateOfBirth>\\n\\t\\t\\t<Nationality>Spanish</Nationality>\\n\\t\\t</Driver>\\n\\t</DriverTable>\\n</MRData>\\n'"
      ]
     },
     "execution_count": 5,
     "metadata": {},
     "output_type": "execute_result"
    }
   ],
   "source": [
    "data = requests.request(\"GET\", 'http://ergast.com/api/f1/drivers/alonso').text\n"
   ]
  },
  {
   "cell_type": "code",
   "execution_count": 10,
   "metadata": {},
   "outputs": [
    {
     "data": {
      "text/plain": [
       "str"
      ]
     },
     "execution_count": 10,
     "metadata": {},
     "output_type": "execute_result"
    }
   ],
   "source": [
    "pilots = pd.read_xml(\n",
    "    data,\n",
    "    namespaces = {'doc': \"http://ergast.com/mrd/1.5\"},\n",
    "    xpath = './/doc:Driver'\n",
    "    )"
   ]
  }
 ],
 "metadata": {
  "interpreter": {
   "hash": "91c7cbe9a0ed807bfe4cef66966ba7075896341a8f5fdff92744b04ac27d39b0"
  },
  "kernelspec": {
   "display_name": "Python 3.8.13 ('streamlit')",
   "language": "python",
   "name": "python3"
  },
  "language_info": {
   "codemirror_mode": {
    "name": "ipython",
    "version": 3
   },
   "file_extension": ".py",
   "mimetype": "text/x-python",
   "name": "python",
   "nbconvert_exporter": "python",
   "pygments_lexer": "ipython3",
   "version": "3.8.13"
  },
  "orig_nbformat": 4
 },
 "nbformat": 4,
 "nbformat_minor": 2
}
