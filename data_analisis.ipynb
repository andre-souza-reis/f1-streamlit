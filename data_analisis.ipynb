{
 "cells": [
  {
   "cell_type": "code",
   "execution_count": 142,
   "metadata": {},
   "outputs": [],
   "source": [
    "import requests\n",
    "import pandas as pd\n",
    "from fuzzywuzzy import fuzz\n",
    "from fuzzywuzzy import process\n",
    "import wikipedia\n",
    "from PIL import Image\n",
    "from io import BytesIO\n",
    "from datetime import date\n",
    "import xml.etree.ElementTree as ET\n"
   ]
  },
  {
   "cell_type": "markdown",
   "metadata": {},
   "source": [
    "#### Requesting all drivers names"
   ]
  },
  {
   "cell_type": "code",
   "execution_count": 8,
   "metadata": {},
   "outputs": [],
   "source": [
    "# Request\n",
    "data = requests.request(\"GET\", 'http://ergast.com/api/f1/drivers?limit=10000').text\n",
    "\n",
    "# Parsing to DataFrame\n",
    "pilots = pd.read_xml(\n",
    "    data,\n",
    "    namespaces = {'doc': \"http://ergast.com/mrd/1.5\"},\n",
    "    xpath = './/doc:Driver'\n",
    "    )\n",
    "\n",
    "# Joining first and last name\n",
    "pilots = pilots.assign(Name = pilots[['GivenName', 'FamilyName']].apply(' '.join, axis = 1)).drop(['GivenName', 'FamilyName'], axis = 1)\n",
    "\n",
    "# Getting simillar drivers\n",
    "# simmilar = process.extractBests(\"Lewis\", pilots['Name'].to_list(), limit = 10, score_cutoff=80)\n",
    "\n",
    "# a = []\n",
    "# for i in simmilar:\n",
    "#     a.append(i[0])\n",
    "# tuple(a)"
   ]
  },
  {
   "cell_type": "markdown",
   "metadata": {},
   "source": [
    "#### Getting wikipedia picture"
   ]
  },
  {
   "cell_type": "code",
   "execution_count": 9,
   "metadata": {},
   "outputs": [],
   "source": [
    "# text = requests.request(\"GET\", 'http://en.wikipedia.org/wiki/Lewis_Hamilton').text\n",
    "\n",
    "# sample = \"//upload.wikimedia.org/wikipedia/commons/thumb\"\n",
    "\n",
    "# start = text.find(sample)\n",
    "# end = text[start:].find('\"')\n",
    "\n",
    "# 'https:' + text[start:(start + end)]"
   ]
  },
  {
   "cell_type": "code",
   "execution_count": 10,
   "metadata": {},
   "outputs": [],
   "source": [
    "# text = requests.request(\"GET\", pilots[pilots['Name'] == 'Lewis Hamilton']['url'].values[0]).text\n",
    "\n",
    "# sample = \"//upload.wikimedia.org/wikipedia/commons/thumb\"\n",
    "\n",
    "# start = text.find(sample)\n",
    "# end = text[start:].find('\"')\n",
    "\n",
    "# 'https:' + text[start:(start + end)]"
   ]
  },
  {
   "cell_type": "code",
   "execution_count": 11,
   "metadata": {},
   "outputs": [],
   "source": [
    "# url = 'https://upload.wikimedia.org/wikipedia/commons/thumb/1/18/Lewis_Hamilton_2016_Malaysia_2.jpg/640px-Lewis_Hamilton_2016_Malaysia_2.jpg'\n",
    "\n",
    "# response = requests.get(url)\n",
    "\n",
    "# Image.open(BytesIO(response.content))"
   ]
  },
  {
   "cell_type": "markdown",
   "metadata": {},
   "source": [
    "#### Getting driver details"
   ]
  },
  {
   "cell_type": "code",
   "execution_count": 12,
   "metadata": {},
   "outputs": [],
   "source": [
    "# Requesting data\n",
    "data = requests.request(\"GET\", 'http://ergast.com/api/f1/drivers/alonso').text\n",
    "\n",
    "# Parsing to DataFrame\n",
    "pilots = pd.read_xml(\n",
    "    data,\n",
    "    namespaces = {'doc': \"http://ergast.com/mrd/1.5\"},\n",
    "    xpath = './/doc:Driver'\n",
    "    )"
   ]
  },
  {
   "cell_type": "markdown",
   "metadata": {},
   "source": [
    "#### Getting qualifying details"
   ]
  },
  {
   "cell_type": "code",
   "execution_count": 63,
   "metadata": {},
   "outputs": [],
   "source": [
    "# Requesting data\n",
    "quali = requests.request(\"GET\", 'http://ergast.com/api/f1/drivers/alonso/qualifying?limit=1000').text"
   ]
  },
  {
   "cell_type": "code",
   "execution_count": 64,
   "metadata": {},
   "outputs": [],
   "source": [
    "# Parsing to DataFrame\n",
    "qualis = pd.read_xml(\n",
    "    quali,\n",
    "    namespaces = {'doc': \"http://ergast.com/mrd/1.5\"},\n",
    "    xpath = './/doc:Race'\n",
    "    )\n",
    "\n",
    "# Parsing to Tree\n",
    "tree = ET.fromstring(quali)"
   ]
  },
  {
   "cell_type": "code",
   "execution_count": 143,
   "metadata": {},
   "outputs": [
    {
     "name": "stdout",
     "output_type": "stream",
     "text": [
      "Spanish\n",
      "23\n",
      "['Minardi', 'Renault', 'McLaren', 'Ferrari', 'Alpine F1 Team']\n",
      "Alpine F1 Team\n",
      "326\n",
      "True\n"
     ]
    }
   ],
   "source": [
    "#RaceTable [0]\n",
    "    #Race (season, round, url) [0][0]\n",
    "        #RaceName {racename}  [0][0][0]\n",
    "        #Circuit (circuitId, url) [0][0][1]\n",
    "            #CircuitName {circuitname} [0][0][1][0]\n",
    "            #Location (lat, long) [0][0][1][1]\n",
    "                #Locality {Locality} [0][0][1][1][0]\n",
    "                #Country {Country} [0][0][1][1][1]\n",
    "        #Date {date} [0][0][2]\n",
    "        #QualifyingList [0][0][3]\n",
    "            #QualifyingResult (position) [0][0][3][0]\n",
    "                #Driver [0][0][3][0][0]\n",
    "                    #PermanentNumber {}[0][0][3][0][0][0]\n",
    "                    #GivenName [0][0][3][0][0][1]\n",
    "                    #FamilyName [0][0][3][0][0][2]\n",
    "                    #DateOfBirth [0][0][3][0][0][3]\n",
    "                    #Nationality [0][0][3][0][0][4]\n",
    "                #Constructor [0][0][3][0][1]\n",
    "                    #Name [0][0][3][0][1][0]\n",
    "                    #Nationality\n",
    "\n",
    "races = len(tree[0])\n",
    "\n",
    "poles = 0\n",
    "constructors = {}\n",
    "\n",
    "nationality = tree[0][0].find('{http://ergast.com/mrd/1.5}QualifyingList').find('{http://ergast.com/mrd/1.5}QualifyingResult').find('{http://ergast.com/mrd/1.5}Driver').find('{http://ergast.com/mrd/1.5}Nationality').text\n",
    "last_team = tree[0][races-1].find('{http://ergast.com/mrd/1.5}QualifyingList').find('{http://ergast.com/mrd/1.5}QualifyingResult').find('{http://ergast.com/mrd/1.5}Constructor').find('{http://ergast.com/mrd/1.5}Name').text\n",
    "\n",
    "for i in range(races):\n",
    "    if (\n",
    "        tree[0][i]\n",
    "            .find('{http://ergast.com/mrd/1.5}QualifyingList')\n",
    "            .find('{http://ergast.com/mrd/1.5}QualifyingResult')\n",
    "            .attrib['position'] == '1'):\n",
    "        poles+=1\n",
    "\n",
    "    constructor = tree[0][i].find('{http://ergast.com/mrd/1.5}QualifyingList').find('{http://ergast.com/mrd/1.5}QualifyingResult').find('{http://ergast.com/mrd/1.5}Constructor').find('{http://ergast.com/mrd/1.5}Name').text\n",
    "    constructors[constructor] = None\n",
    "\n",
    "print(nationality)\n",
    "print(poles)\n",
    "print(list(constructors.keys()))\n",
    "print(last_team)\n",
    "print(races)\n",
    "print()"
   ]
  },
  {
   "cell_type": "markdown",
   "metadata": {},
   "source": [
    "#### Getting races details"
   ]
  },
  {
   "cell_type": "code",
   "execution_count": 154,
   "metadata": {},
   "outputs": [],
   "source": [
    "# Requesting data\n",
    "races_data = requests.request(\"GET\", 'http://ergast.com/api/f1/drivers/alonso/results?limit=1000').text"
   ]
  },
  {
   "cell_type": "code",
   "execution_count": 155,
   "metadata": {},
   "outputs": [],
   "source": [
    "# Parsing to Tree\n",
    "tree = ET.fromstring(races_data)"
   ]
  },
  {
   "cell_type": "code",
   "execution_count": 156,
   "metadata": {},
   "outputs": [
    {
     "name": "stdout",
     "output_type": "stream",
     "text": [
      "343\n",
      "32\n",
      "98\n"
     ]
    }
   ],
   "source": [
    "races = len(tree[0])\n",
    "wins = 0\n",
    "podium = 0\n",
    "\n",
    "for i in range(races):\n",
    "    position = int(tree[0][i].find('{http://ergast.com/mrd/1.5}ResultsList').find('{http://ergast.com/mrd/1.5}Result').attrib['position'])\n",
    "    wins = (wins + 1) if position == 1 else wins\n",
    "    podium = (podium + 1) if position <= 3 else podium\n",
    "\n",
    "print(races)\n",
    "print(wins)\n",
    "print(podium)"
   ]
  },
  {
   "cell_type": "markdown",
   "metadata": {},
   "source": [
    "#### Getting championship details"
   ]
  },
  {
   "cell_type": "code",
   "execution_count": 179,
   "metadata": {},
   "outputs": [],
   "source": [
    "# Requesting data\n",
    "champioship_data = requests.request(\"GET\", 'https://ergast.com/api/f1/drivers/hamilton/driverStandings/1').text"
   ]
  },
  {
   "cell_type": "code",
   "execution_count": 180,
   "metadata": {},
   "outputs": [],
   "source": [
    "# Parsing to Tree\n",
    "tree = ET.fromstring(champioship_data)"
   ]
  },
  {
   "cell_type": "code",
   "execution_count": 181,
   "metadata": {},
   "outputs": [
    {
     "data": {
      "text/plain": [
       "7"
      ]
     },
     "execution_count": 181,
     "metadata": {},
     "output_type": "execute_result"
    }
   ],
   "source": [
    "len(tree[0])"
   ]
  },
  {
   "cell_type": "code",
   "execution_count": 184,
   "metadata": {},
   "outputs": [],
   "source": [
    "champioship_data = requests.request(\"GET\", f'https://ergast.com/api/f1/drivers/senna/driverStandings').text"
   ]
  },
  {
   "cell_type": "code",
   "execution_count": 185,
   "metadata": {},
   "outputs": [],
   "source": [
    "# Parsing to Tree\n",
    "tree = ET.fromstring(champioship_data)"
   ]
  },
  {
   "cell_type": "code",
   "execution_count": 192,
   "metadata": {},
   "outputs": [
    {
     "data": {
      "text/plain": [
       "'1984'"
      ]
     },
     "execution_count": 192,
     "metadata": {},
     "output_type": "execute_result"
    }
   ],
   "source": [
    "tree[0][0].attrib['season']"
   ]
  },
  {
   "cell_type": "code",
   "execution_count": 201,
   "metadata": {},
   "outputs": [
    {
     "name": "stdout",
     "output_type": "stream",
     "text": [
      "3\n"
     ]
    },
    {
     "data": {
      "text/html": [
       "<div>\n",
       "<style scoped>\n",
       "    .dataframe tbody tr th:only-of-type {\n",
       "        vertical-align: middle;\n",
       "    }\n",
       "\n",
       "    .dataframe tbody tr th {\n",
       "        vertical-align: top;\n",
       "    }\n",
       "\n",
       "    .dataframe thead th {\n",
       "        text-align: right;\n",
       "    }\n",
       "</style>\n",
       "<table border=\"1\" class=\"dataframe\">\n",
       "  <thead>\n",
       "    <tr style=\"text-align: right;\">\n",
       "      <th></th>\n",
       "      <th>season</th>\n",
       "      <th>position</th>\n",
       "      <th>points</th>\n",
       "      <th>medal</th>\n",
       "    </tr>\n",
       "  </thead>\n",
       "  <tbody>\n",
       "    <tr>\n",
       "      <th>0</th>\n",
       "      <td>1984</td>\n",
       "      <td>9</td>\n",
       "      <td>13</td>\n",
       "      <td></td>\n",
       "    </tr>\n",
       "    <tr>\n",
       "      <th>1</th>\n",
       "      <td>1985</td>\n",
       "      <td>4</td>\n",
       "      <td>38</td>\n",
       "      <td></td>\n",
       "    </tr>\n",
       "    <tr>\n",
       "      <th>2</th>\n",
       "      <td>1986</td>\n",
       "      <td>4</td>\n",
       "      <td>55</td>\n",
       "      <td></td>\n",
       "    </tr>\n",
       "    <tr>\n",
       "      <th>3</th>\n",
       "      <td>1987</td>\n",
       "      <td>3</td>\n",
       "      <td>57</td>\n",
       "      <td>🥉</td>\n",
       "    </tr>\n",
       "    <tr>\n",
       "      <th>4</th>\n",
       "      <td>1988</td>\n",
       "      <td>1</td>\n",
       "      <td>90</td>\n",
       "      <td>🥇</td>\n",
       "    </tr>\n",
       "    <tr>\n",
       "      <th>5</th>\n",
       "      <td>1989</td>\n",
       "      <td>2</td>\n",
       "      <td>60</td>\n",
       "      <td>🥈</td>\n",
       "    </tr>\n",
       "    <tr>\n",
       "      <th>6</th>\n",
       "      <td>1990</td>\n",
       "      <td>1</td>\n",
       "      <td>78</td>\n",
       "      <td>🥇</td>\n",
       "    </tr>\n",
       "    <tr>\n",
       "      <th>7</th>\n",
       "      <td>1991</td>\n",
       "      <td>1</td>\n",
       "      <td>96</td>\n",
       "      <td>🥇</td>\n",
       "    </tr>\n",
       "    <tr>\n",
       "      <th>8</th>\n",
       "      <td>1992</td>\n",
       "      <td>4</td>\n",
       "      <td>50</td>\n",
       "      <td></td>\n",
       "    </tr>\n",
       "    <tr>\n",
       "      <th>9</th>\n",
       "      <td>1993</td>\n",
       "      <td>2</td>\n",
       "      <td>73</td>\n",
       "      <td>🥈</td>\n",
       "    </tr>\n",
       "    <tr>\n",
       "      <th>10</th>\n",
       "      <td>1994</td>\n",
       "      <td>38</td>\n",
       "      <td>0</td>\n",
       "      <td></td>\n",
       "    </tr>\n",
       "  </tbody>\n",
       "</table>\n",
       "</div>"
      ],
      "text/plain": [
       "   season position points medal\n",
       "0    1984        9     13      \n",
       "1    1985        4     38      \n",
       "2    1986        4     55      \n",
       "3    1987        3     57     🥉\n",
       "4    1988        1     90     🥇\n",
       "5    1989        2     60     🥈\n",
       "6    1990        1     78     🥇\n",
       "7    1991        1     96     🥇\n",
       "8    1992        4     50      \n",
       "9    1993        2     73     🥈\n",
       "10   1994       38      0      "
      ]
     },
     "execution_count": 201,
     "metadata": {},
     "output_type": "execute_result"
    }
   ],
   "source": [
    "results = []\n",
    "wins = 0\n",
    "for i in range(len(tree[0])):\n",
    "    season = tree[0][i].attrib['season']\n",
    "    position = tree[0][i].find('{http://ergast.com/mrd/1.5}DriverStanding').attrib['position'] \n",
    "    points = tree[0][i].find('{http://ergast.com/mrd/1.5}DriverStanding').attrib['points']\n",
    "    emoji = '🥇' if position == '1' else '🥈' if position == '2' else '🥉' if position == '3' else ' '\n",
    "    wins = wins+1 if position == '1' else wins\n",
    "    results.append([season, position, points, emoji])\n",
    "\n",
    "print(wins)\n",
    "pd.DataFrame(results, columns=['season', 'position', 'points', 'medal'])"
   ]
  },
  {
   "cell_type": "code",
   "execution_count": 206,
   "metadata": {},
   "outputs": [],
   "source": [
    "actual = requests.request(\"GET\", f'https://ergast.com/api/f1/current/drivers/alonso/driverStandings').text\n",
    "tree = ET.fromstring(actual)\n",
    "position = tree[0][0][0].attrib['position']\n",
    "points = tree[0][0][0].attrib['points']\n",
    "wins = tree[0][0][0].attrib['wins']\n"
   ]
  }
 ],
 "metadata": {
  "interpreter": {
   "hash": "91c7cbe9a0ed807bfe4cef66966ba7075896341a8f5fdff92744b04ac27d39b0"
  },
  "kernelspec": {
   "display_name": "Python 3.8.13 ('streamlit')",
   "language": "python",
   "name": "python3"
  },
  "language_info": {
   "codemirror_mode": {
    "name": "ipython",
    "version": 3
   },
   "file_extension": ".py",
   "mimetype": "text/x-python",
   "name": "python",
   "nbconvert_exporter": "python",
   "pygments_lexer": "ipython3",
   "version": "3.8.13"
  },
  "orig_nbformat": 4
 },
 "nbformat": 4,
 "nbformat_minor": 2
}
