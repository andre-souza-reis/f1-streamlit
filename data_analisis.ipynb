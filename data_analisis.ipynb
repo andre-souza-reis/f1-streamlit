{
 "cells": [
  {
   "cell_type": "code",
   "execution_count": 5,
   "metadata": {},
   "outputs": [],
   "source": [
    "import requests\n",
    "import pandas as pd"
   ]
  },
  {
   "cell_type": "code",
   "execution_count": 6,
   "metadata": {},
   "outputs": [],
   "source": [
    "data = requests.request(\"GET\", 'http://ergast.com/api/f1/drivers?=123').text"
   ]
  },
  {
   "cell_type": "code",
   "execution_count": 8,
   "metadata": {},
   "outputs": [
    {
     "ename": "TypeError",
     "evalue": "read_xml() got an unexpected keyword argument 'nodes'",
     "output_type": "error",
     "traceback": [
      "\u001b[1;31m---------------------------------------------------------------------------\u001b[0m",
      "\u001b[1;31mTypeError\u001b[0m                                 Traceback (most recent call last)",
      "\u001b[1;32mc:\\Git-Oficial\\f1-dataViz\\data_analisis.ipynb Cell 3'\u001b[0m in \u001b[0;36m<cell line: 1>\u001b[1;34m()\u001b[0m\n\u001b[1;32m----> <a href='vscode-notebook-cell:/c%3A/Git-Oficial/f1-dataViz/data_analisis.ipynb#ch0000002?line=0'>1</a>\u001b[0m pd\u001b[39m.\u001b[39;49mread_xml(\n\u001b[0;32m      <a href='vscode-notebook-cell:/c%3A/Git-Oficial/f1-dataViz/data_analisis.ipynb#ch0000002?line=1'>2</a>\u001b[0m     data,\n\u001b[0;32m      <a href='vscode-notebook-cell:/c%3A/Git-Oficial/f1-dataViz/data_analisis.ipynb#ch0000002?line=2'>3</a>\u001b[0m     nodes \u001b[39m=\u001b[39;49m \u001b[39m\"\u001b[39;49m\u001b[39m.//doc:Driver\u001b[39;49m\u001b[39m\"\u001b[39;49m, \n\u001b[0;32m      <a href='vscode-notebook-cell:/c%3A/Git-Oficial/f1-dataViz/data_analisis.ipynb#ch0000002?line=3'>4</a>\u001b[0m     namespace \u001b[39m=\u001b[39;49m {\u001b[39m'\u001b[39;49m\u001b[39mdoc\u001b[39;49m\u001b[39m'\u001b[39;49m: \u001b[39m\"\u001b[39;49m\u001b[39mhttp://ergast.com/mrd/1.5\u001b[39;49m\u001b[39m\"\u001b[39;49m},\n\u001b[0;32m      <a href='vscode-notebook-cell:/c%3A/Git-Oficial/f1-dataViz/data_analisis.ipynb#ch0000002?line=4'>5</a>\u001b[0m     url\u001b[39m=\u001b[39;49m\u001b[39mTrue\u001b[39;49;00m\n\u001b[0;32m      <a href='vscode-notebook-cell:/c%3A/Git-Oficial/f1-dataViz/data_analisis.ipynb#ch0000002?line=5'>6</a>\u001b[0m     )\n",
      "File \u001b[1;32mc:\\Users\\andre\\anaconda3\\envs\\streamlit\\lib\\site-packages\\pandas\\util\\_decorators.py:311\u001b[0m, in \u001b[0;36mdeprecate_nonkeyword_arguments.<locals>.decorate.<locals>.wrapper\u001b[1;34m(*args, **kwargs)\u001b[0m\n\u001b[0;32m    <a href='file:///c%3A/Users/andre/anaconda3/envs/streamlit/lib/site-packages/pandas/util/_decorators.py?line=304'>305</a>\u001b[0m \u001b[39mif\u001b[39;00m \u001b[39mlen\u001b[39m(args) \u001b[39m>\u001b[39m num_allow_args:\n\u001b[0;32m    <a href='file:///c%3A/Users/andre/anaconda3/envs/streamlit/lib/site-packages/pandas/util/_decorators.py?line=305'>306</a>\u001b[0m     warnings\u001b[39m.\u001b[39mwarn(\n\u001b[0;32m    <a href='file:///c%3A/Users/andre/anaconda3/envs/streamlit/lib/site-packages/pandas/util/_decorators.py?line=306'>307</a>\u001b[0m         msg\u001b[39m.\u001b[39mformat(arguments\u001b[39m=\u001b[39marguments),\n\u001b[0;32m    <a href='file:///c%3A/Users/andre/anaconda3/envs/streamlit/lib/site-packages/pandas/util/_decorators.py?line=307'>308</a>\u001b[0m         \u001b[39mFutureWarning\u001b[39;00m,\n\u001b[0;32m    <a href='file:///c%3A/Users/andre/anaconda3/envs/streamlit/lib/site-packages/pandas/util/_decorators.py?line=308'>309</a>\u001b[0m         stacklevel\u001b[39m=\u001b[39mstacklevel,\n\u001b[0;32m    <a href='file:///c%3A/Users/andre/anaconda3/envs/streamlit/lib/site-packages/pandas/util/_decorators.py?line=309'>310</a>\u001b[0m     )\n\u001b[1;32m--> <a href='file:///c%3A/Users/andre/anaconda3/envs/streamlit/lib/site-packages/pandas/util/_decorators.py?line=310'>311</a>\u001b[0m \u001b[39mreturn\u001b[39;00m func(\u001b[39m*\u001b[39;49margs, \u001b[39m*\u001b[39;49m\u001b[39m*\u001b[39;49mkwargs)\n",
      "\u001b[1;31mTypeError\u001b[0m: read_xml() got an unexpected keyword argument 'nodes'"
     ]
    }
   ],
   "source": [
    "pd.read_xml(\n",
    "    data,\n",
    "    nodes = \".//doc:Driver\", \n",
    "    namespace = {'doc': \"http://ergast.com/mrd/1.5\"},\n",
    "    url=True\n",
    "    )"
   ]
  }
 ],
 "metadata": {
  "interpreter": {
   "hash": "1e831e9a3b5b5f398d1197f8858e98ff4852ed54cbbcc530c90542040f4e9bee"
  },
  "kernelspec": {
   "display_name": "Python 3.8.13",
   "language": "python",
   "name": "python3"
  },
  "language_info": {
   "codemirror_mode": {
    "name": "ipython",
    "version": 3
   },
   "file_extension": ".py",
   "mimetype": "text/x-python",
   "name": "python",
   "nbconvert_exporter": "python",
   "pygments_lexer": "ipython3",
   "version": "3.8.13"
  },
  "orig_nbformat": 4
 },
 "nbformat": 4,
 "nbformat_minor": 2
}
