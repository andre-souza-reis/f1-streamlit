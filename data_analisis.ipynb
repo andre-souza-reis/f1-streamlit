{
 "cells": [
  {
   "cell_type": "code",
   "execution_count": 1,
   "metadata": {},
   "outputs": [
    {
     "name": "stderr",
     "output_type": "stream",
     "text": [
      "c:\\Users\\andre.de.souza.reis\\Anaconda\\envs\\streamlit\\lib\\site-packages\\fuzzywuzzy\\fuzz.py:11: UserWarning: Using slow pure-python SequenceMatcher. Install python-Levenshtein to remove this warning\n",
      "  warnings.warn('Using slow pure-python SequenceMatcher. Install python-Levenshtein to remove this warning')\n"
     ]
    }
   ],
   "source": [
    "import requests\n",
    "import pandas as pd\n",
    "from fuzzywuzzy import fuzz\n",
    "from fuzzywuzzy import process\n",
    "import wikipedia\n",
    "from PIL import Image\n",
    "from io import BytesIO\n",
    "from datetime import date\n",
    "import xml.etree.ElementTree as ET\n"
   ]
  },
  {
   "cell_type": "markdown",
   "metadata": {},
   "source": [
    "#### Requesting all drivers names"
   ]
  },
  {
   "cell_type": "code",
   "execution_count": 8,
   "metadata": {},
   "outputs": [],
   "source": [
    "# Request\n",
    "data = requests.request(\"GET\", 'http://ergast.com/api/f1/drivers?limit=10000').text\n",
    "\n",
    "# Parsing to DataFrame\n",
    "pilots = pd.read_xml(\n",
    "    data,\n",
    "    namespaces = {'doc': \"http://ergast.com/mrd/1.5\"},\n",
    "    xpath = './/doc:Driver'\n",
    "    )\n",
    "\n",
    "# Joining first and last name\n",
    "pilots = pilots.assign(Name = pilots[['GivenName', 'FamilyName']].apply(' '.join, axis = 1)).drop(['GivenName', 'FamilyName'], axis = 1)\n",
    "\n",
    "# Getting simillar drivers\n",
    "# simmilar = process.extractBests(\"Lewis\", pilots['Name'].to_list(), limit = 10, score_cutoff=80)\n",
    "\n",
    "# a = []\n",
    "# for i in simmilar:\n",
    "#     a.append(i[0])\n",
    "# tuple(a)"
   ]
  },
  {
   "cell_type": "markdown",
   "metadata": {},
   "source": [
    "#### Getting wikipedia picture"
   ]
  },
  {
   "cell_type": "code",
   "execution_count": 9,
   "metadata": {},
   "outputs": [],
   "source": [
    "# text = requests.request(\"GET\", 'http://en.wikipedia.org/wiki/Lewis_Hamilton').text\n",
    "\n",
    "# sample = \"//upload.wikimedia.org/wikipedia/commons/thumb\"\n",
    "\n",
    "# start = text.find(sample)\n",
    "# end = text[start:].find('\"')\n",
    "\n",
    "# 'https:' + text[start:(start + end)]"
   ]
  },
  {
   "cell_type": "code",
   "execution_count": 10,
   "metadata": {},
   "outputs": [],
   "source": [
    "# text = requests.request(\"GET\", pilots[pilots['Name'] == 'Lewis Hamilton']['url'].values[0]).text\n",
    "\n",
    "# sample = \"//upload.wikimedia.org/wikipedia/commons/thumb\"\n",
    "\n",
    "# start = text.find(sample)\n",
    "# end = text[start:].find('\"')\n",
    "\n",
    "# 'https:' + text[start:(start + end)]"
   ]
  },
  {
   "cell_type": "code",
   "execution_count": 11,
   "metadata": {},
   "outputs": [],
   "source": [
    "# url = 'https://upload.wikimedia.org/wikipedia/commons/thumb/1/18/Lewis_Hamilton_2016_Malaysia_2.jpg/640px-Lewis_Hamilton_2016_Malaysia_2.jpg'\n",
    "\n",
    "# response = requests.get(url)\n",
    "\n",
    "# Image.open(BytesIO(response.content))"
   ]
  },
  {
   "cell_type": "markdown",
   "metadata": {},
   "source": [
    "#### Getting driver details"
   ]
  },
  {
   "cell_type": "code",
   "execution_count": 12,
   "metadata": {},
   "outputs": [],
   "source": [
    "# Requesting data\n",
    "data = requests.request(\"GET\", 'http://ergast.com/api/f1/drivers/alonso').text\n",
    "\n",
    "# Parsing to DataFrame\n",
    "pilots = pd.read_xml(\n",
    "    data,\n",
    "    namespaces = {'doc': \"http://ergast.com/mrd/1.5\"},\n",
    "    xpath = './/doc:Driver'\n",
    "    )"
   ]
  },
  {
   "cell_type": "markdown",
   "metadata": {},
   "source": [
    "#### Getting qualifying details"
   ]
  },
  {
   "cell_type": "code",
   "execution_count": 63,
   "metadata": {},
   "outputs": [],
   "source": [
    "# Requesting data\n",
    "quali = requests.request(\"GET\", 'http://ergast.com/api/f1/drivers/alonso/qualifying?limit=1000').text"
   ]
  },
  {
   "cell_type": "code",
   "execution_count": 64,
   "metadata": {},
   "outputs": [],
   "source": [
    "# Parsing to DataFrame\n",
    "qualis = pd.read_xml(\n",
    "    quali,\n",
    "    namespaces = {'doc': \"http://ergast.com/mrd/1.5\"},\n",
    "    xpath = './/doc:Race'\n",
    "    )\n",
    "\n",
    "# Parsing to Tree\n",
    "tree = ET.fromstring(quali)"
   ]
  },
  {
   "cell_type": "code",
   "execution_count": 143,
   "metadata": {},
   "outputs": [
    {
     "name": "stdout",
     "output_type": "stream",
     "text": [
      "Spanish\n",
      "23\n",
      "['Minardi', 'Renault', 'McLaren', 'Ferrari', 'Alpine F1 Team']\n",
      "Alpine F1 Team\n",
      "326\n",
      "True\n"
     ]
    }
   ],
   "source": [
    "#RaceTable [0]\n",
    "    #Race (season, round, url) [0][0]\n",
    "        #RaceName {racename}  [0][0][0]\n",
    "        #Circuit (circuitId, url) [0][0][1]\n",
    "            #CircuitName {circuitname} [0][0][1][0]\n",
    "            #Location (lat, long) [0][0][1][1]\n",
    "                #Locality {Locality} [0][0][1][1][0]\n",
    "                #Country {Country} [0][0][1][1][1]\n",
    "        #Date {date} [0][0][2]\n",
    "        #QualifyingList [0][0][3]\n",
    "            #QualifyingResult (position) [0][0][3][0]\n",
    "                #Driver [0][0][3][0][0]\n",
    "                    #PermanentNumber {}[0][0][3][0][0][0]\n",
    "                    #GivenName [0][0][3][0][0][1]\n",
    "                    #FamilyName [0][0][3][0][0][2]\n",
    "                    #DateOfBirth [0][0][3][0][0][3]\n",
    "                    #Nationality [0][0][3][0][0][4]\n",
    "                #Constructor [0][0][3][0][1]\n",
    "                    #Name [0][0][3][0][1][0]\n",
    "                    #Nationality\n",
    "\n",
    "races = len(tree[0])\n",
    "\n",
    "poles = 0\n",
    "constructors = {}\n",
    "\n",
    "nationality = tree[0][0].find('{http://ergast.com/mrd/1.5}QualifyingList').find('{http://ergast.com/mrd/1.5}QualifyingResult').find('{http://ergast.com/mrd/1.5}Driver').find('{http://ergast.com/mrd/1.5}Nationality').text\n",
    "last_team = tree[0][races-1].find('{http://ergast.com/mrd/1.5}QualifyingList').find('{http://ergast.com/mrd/1.5}QualifyingResult').find('{http://ergast.com/mrd/1.5}Constructor').find('{http://ergast.com/mrd/1.5}Name').text\n",
    "\n",
    "for i in range(races):\n",
    "    if (\n",
    "        tree[0][i]\n",
    "            .find('{http://ergast.com/mrd/1.5}QualifyingList')\n",
    "            .find('{http://ergast.com/mrd/1.5}QualifyingResult')\n",
    "            .attrib['position'] == '1'):\n",
    "        poles+=1\n",
    "\n",
    "    constructor = tree[0][i].find('{http://ergast.com/mrd/1.5}QualifyingList').find('{http://ergast.com/mrd/1.5}QualifyingResult').find('{http://ergast.com/mrd/1.5}Constructor').find('{http://ergast.com/mrd/1.5}Name').text\n",
    "    constructors[constructor] = None\n",
    "\n",
    "print(nationality)\n",
    "print(poles)\n",
    "print(list(constructors.keys()))\n",
    "print(last_team)\n",
    "print(races)\n",
    "print()"
   ]
  },
  {
   "cell_type": "markdown",
   "metadata": {},
   "source": [
    "#### Getting races details"
   ]
  },
  {
   "cell_type": "code",
   "execution_count": 154,
   "metadata": {},
   "outputs": [],
   "source": [
    "# Requesting data\n",
    "races_data = requests.request(\"GET\", 'http://ergast.com/api/f1/drivers/alonso/results?limit=1000').text"
   ]
  },
  {
   "cell_type": "code",
   "execution_count": 155,
   "metadata": {},
   "outputs": [],
   "source": [
    "# Parsing to Tree\n",
    "tree = ET.fromstring(races_data)"
   ]
  },
  {
   "cell_type": "code",
   "execution_count": 156,
   "metadata": {},
   "outputs": [
    {
     "name": "stdout",
     "output_type": "stream",
     "text": [
      "343\n",
      "32\n",
      "98\n"
     ]
    }
   ],
   "source": [
    "races = len(tree[0])\n",
    "wins = 0\n",
    "podium = 0\n",
    "\n",
    "for i in range(races):\n",
    "    position = int(tree[0][i].find('{http://ergast.com/mrd/1.5}ResultsList').find('{http://ergast.com/mrd/1.5}Result').attrib['position'])\n",
    "    wins = (wins + 1) if position == 1 else wins\n",
    "    podium = (podium + 1) if position <= 3 else podium\n",
    "\n",
    "print(races)\n",
    "print(wins)\n",
    "print(podium)"
   ]
  },
  {
   "cell_type": "markdown",
   "metadata": {},
   "source": [
    "#### Getting championship details"
   ]
  },
  {
   "cell_type": "code",
   "execution_count": 179,
   "metadata": {},
   "outputs": [],
   "source": [
    "# Requesting data\n",
    "champioship_data = requests.request(\"GET\", 'https://ergast.com/api/f1/drivers/hamilton/driverStandings/1').text"
   ]
  },
  {
   "cell_type": "code",
   "execution_count": 180,
   "metadata": {},
   "outputs": [],
   "source": [
    "# Parsing to Tree\n",
    "tree = ET.fromstring(champioship_data)"
   ]
  },
  {
   "cell_type": "code",
   "execution_count": 181,
   "metadata": {},
   "outputs": [
    {
     "data": {
      "text/plain": [
       "7"
      ]
     },
     "execution_count": 181,
     "metadata": {},
     "output_type": "execute_result"
    }
   ],
   "source": [
    "len(tree[0])"
   ]
  },
  {
   "cell_type": "code",
   "execution_count": 184,
   "metadata": {},
   "outputs": [],
   "source": [
    "champioship_data = requests.request(\"GET\", f'https://ergast.com/api/f1/drivers/senna/driverStandings').text"
   ]
  },
  {
   "cell_type": "code",
   "execution_count": 185,
   "metadata": {},
   "outputs": [],
   "source": [
    "# Parsing to Tree\n",
    "tree = ET.fromstring(champioship_data)"
   ]
  },
  {
   "cell_type": "code",
   "execution_count": 192,
   "metadata": {},
   "outputs": [
    {
     "data": {
      "text/plain": [
       "'1984'"
      ]
     },
     "execution_count": 192,
     "metadata": {},
     "output_type": "execute_result"
    }
   ],
   "source": [
    "tree[0][0].attrib['season']"
   ]
  },
  {
   "cell_type": "code",
   "execution_count": 201,
   "metadata": {},
   "outputs": [
    {
     "name": "stdout",
     "output_type": "stream",
     "text": [
      "3\n"
     ]
    },
    {
     "data": {
      "text/html": [
       "<div>\n",
       "<style scoped>\n",
       "    .dataframe tbody tr th:only-of-type {\n",
       "        vertical-align: middle;\n",
       "    }\n",
       "\n",
       "    .dataframe tbody tr th {\n",
       "        vertical-align: top;\n",
       "    }\n",
       "\n",
       "    .dataframe thead th {\n",
       "        text-align: right;\n",
       "    }\n",
       "</style>\n",
       "<table border=\"1\" class=\"dataframe\">\n",
       "  <thead>\n",
       "    <tr style=\"text-align: right;\">\n",
       "      <th></th>\n",
       "      <th>season</th>\n",
       "      <th>position</th>\n",
       "      <th>points</th>\n",
       "      <th>medal</th>\n",
       "    </tr>\n",
       "  </thead>\n",
       "  <tbody>\n",
       "    <tr>\n",
       "      <th>0</th>\n",
       "      <td>1984</td>\n",
       "      <td>9</td>\n",
       "      <td>13</td>\n",
       "      <td></td>\n",
       "    </tr>\n",
       "    <tr>\n",
       "      <th>1</th>\n",
       "      <td>1985</td>\n",
       "      <td>4</td>\n",
       "      <td>38</td>\n",
       "      <td></td>\n",
       "    </tr>\n",
       "    <tr>\n",
       "      <th>2</th>\n",
       "      <td>1986</td>\n",
       "      <td>4</td>\n",
       "      <td>55</td>\n",
       "      <td></td>\n",
       "    </tr>\n",
       "    <tr>\n",
       "      <th>3</th>\n",
       "      <td>1987</td>\n",
       "      <td>3</td>\n",
       "      <td>57</td>\n",
       "      <td>🥉</td>\n",
       "    </tr>\n",
       "    <tr>\n",
       "      <th>4</th>\n",
       "      <td>1988</td>\n",
       "      <td>1</td>\n",
       "      <td>90</td>\n",
       "      <td>🥇</td>\n",
       "    </tr>\n",
       "    <tr>\n",
       "      <th>5</th>\n",
       "      <td>1989</td>\n",
       "      <td>2</td>\n",
       "      <td>60</td>\n",
       "      <td>🥈</td>\n",
       "    </tr>\n",
       "    <tr>\n",
       "      <th>6</th>\n",
       "      <td>1990</td>\n",
       "      <td>1</td>\n",
       "      <td>78</td>\n",
       "      <td>🥇</td>\n",
       "    </tr>\n",
       "    <tr>\n",
       "      <th>7</th>\n",
       "      <td>1991</td>\n",
       "      <td>1</td>\n",
       "      <td>96</td>\n",
       "      <td>🥇</td>\n",
       "    </tr>\n",
       "    <tr>\n",
       "      <th>8</th>\n",
       "      <td>1992</td>\n",
       "      <td>4</td>\n",
       "      <td>50</td>\n",
       "      <td></td>\n",
       "    </tr>\n",
       "    <tr>\n",
       "      <th>9</th>\n",
       "      <td>1993</td>\n",
       "      <td>2</td>\n",
       "      <td>73</td>\n",
       "      <td>🥈</td>\n",
       "    </tr>\n",
       "    <tr>\n",
       "      <th>10</th>\n",
       "      <td>1994</td>\n",
       "      <td>38</td>\n",
       "      <td>0</td>\n",
       "      <td></td>\n",
       "    </tr>\n",
       "  </tbody>\n",
       "</table>\n",
       "</div>"
      ],
      "text/plain": [
       "   season position points medal\n",
       "0    1984        9     13      \n",
       "1    1985        4     38      \n",
       "2    1986        4     55      \n",
       "3    1987        3     57     🥉\n",
       "4    1988        1     90     🥇\n",
       "5    1989        2     60     🥈\n",
       "6    1990        1     78     🥇\n",
       "7    1991        1     96     🥇\n",
       "8    1992        4     50      \n",
       "9    1993        2     73     🥈\n",
       "10   1994       38      0      "
      ]
     },
     "execution_count": 201,
     "metadata": {},
     "output_type": "execute_result"
    }
   ],
   "source": [
    "results = []\n",
    "wins = 0\n",
    "for i in range(len(tree[0])):\n",
    "    season = tree[0][i].attrib['season']\n",
    "    position = tree[0][i].find('{http://ergast.com/mrd/1.5}DriverStanding').attrib['position'] \n",
    "    points = tree[0][i].find('{http://ergast.com/mrd/1.5}DriverStanding').attrib['points']\n",
    "    emoji = '🥇' if position == '1' else '🥈' if position == '2' else '🥉' if position == '3' else ' '\n",
    "    wins = wins+1 if position == '1' else wins\n",
    "    results.append([season, position, points, emoji])\n",
    "\n",
    "print(wins)\n",
    "pd.DataFrame(results, columns=['season', 'position', 'points', 'medal'])"
   ]
  },
  {
   "cell_type": "code",
   "execution_count": 206,
   "metadata": {},
   "outputs": [],
   "source": [
    "actual = requests.request(\"GET\", f'https://ergast.com/api/f1/current/drivers/alonso/driverStandings').text\n",
    "tree = ET.fromstring(actual)\n",
    "position = tree[0][0][0].attrib['position']\n",
    "points = tree[0][0][0].attrib['points']\n",
    "wins = tree[0][0][0].attrib['wins']\n"
   ]
  },
  {
   "cell_type": "markdown",
   "metadata": {},
   "source": [
    "#### Requsting all circuits"
   ]
  },
  {
   "cell_type": "code",
   "execution_count": 69,
   "metadata": {},
   "outputs": [],
   "source": [
    "data = requests.request(\"GET\", 'http://ergast.com/api/f1/circuits?limit=10000').text\n",
    "tree = ET.fromstring(data)"
   ]
  },
  {
   "cell_type": "code",
   "execution_count": 70,
   "metadata": {},
   "outputs": [
    {
     "data": {
      "text/html": [
       "<div>\n",
       "<style scoped>\n",
       "    .dataframe tbody tr th:only-of-type {\n",
       "        vertical-align: middle;\n",
       "    }\n",
       "\n",
       "    .dataframe tbody tr th {\n",
       "        vertical-align: top;\n",
       "    }\n",
       "\n",
       "    .dataframe thead th {\n",
       "        text-align: right;\n",
       "    }\n",
       "</style>\n",
       "<table border=\"1\" class=\"dataframe\">\n",
       "  <thead>\n",
       "    <tr style=\"text-align: right;\">\n",
       "      <th></th>\n",
       "      <th>ID</th>\n",
       "      <th>Name</th>\n",
       "      <th>Geo</th>\n",
       "      <th>Country</th>\n",
       "    </tr>\n",
       "  </thead>\n",
       "  <tbody>\n",
       "    <tr>\n",
       "      <th>0</th>\n",
       "      <td>adelaide</td>\n",
       "      <td>Adelaide Street Circuit</td>\n",
       "      <td>{'lat': '-34.9272', 'long': '138.617'}</td>\n",
       "      <td>Australia</td>\n",
       "    </tr>\n",
       "    <tr>\n",
       "      <th>1</th>\n",
       "      <td>ain-diab</td>\n",
       "      <td>Ain Diab</td>\n",
       "      <td>{'lat': '33.5786', 'long': '-7.6875'}</td>\n",
       "      <td>Morocco</td>\n",
       "    </tr>\n",
       "    <tr>\n",
       "      <th>2</th>\n",
       "      <td>aintree</td>\n",
       "      <td>Aintree</td>\n",
       "      <td>{'lat': '53.4769', 'long': '-2.94056'}</td>\n",
       "      <td>UK</td>\n",
       "    </tr>\n",
       "    <tr>\n",
       "      <th>3</th>\n",
       "      <td>albert_park</td>\n",
       "      <td>Albert Park Grand Prix Circuit</td>\n",
       "      <td>{'lat': '-37.8497', 'long': '144.968'}</td>\n",
       "      <td>Australia</td>\n",
       "    </tr>\n",
       "    <tr>\n",
       "      <th>4</th>\n",
       "      <td>americas</td>\n",
       "      <td>Circuit of the Americas</td>\n",
       "      <td>{'lat': '30.1328', 'long': '-97.6411'}</td>\n",
       "      <td>USA</td>\n",
       "    </tr>\n",
       "    <tr>\n",
       "      <th>...</th>\n",
       "      <td>...</td>\n",
       "      <td>...</td>\n",
       "      <td>...</td>\n",
       "      <td>...</td>\n",
       "    </tr>\n",
       "    <tr>\n",
       "      <th>74</th>\n",
       "      <td>yas_marina</td>\n",
       "      <td>Yas Marina Circuit</td>\n",
       "      <td>{'lat': '24.4672', 'long': '54.6031'}</td>\n",
       "      <td>UAE</td>\n",
       "    </tr>\n",
       "    <tr>\n",
       "      <th>75</th>\n",
       "      <td>yeongam</td>\n",
       "      <td>Korean International Circuit</td>\n",
       "      <td>{'lat': '34.7333', 'long': '126.417'}</td>\n",
       "      <td>Korea</td>\n",
       "    </tr>\n",
       "    <tr>\n",
       "      <th>76</th>\n",
       "      <td>zandvoort</td>\n",
       "      <td>Circuit Park Zandvoort</td>\n",
       "      <td>{'lat': '52.3888', 'long': '4.54092'}</td>\n",
       "      <td>Netherlands</td>\n",
       "    </tr>\n",
       "    <tr>\n",
       "      <th>77</th>\n",
       "      <td>zeltweg</td>\n",
       "      <td>Zeltweg</td>\n",
       "      <td>{'lat': '47.2039', 'long': '14.7478'}</td>\n",
       "      <td>Austria</td>\n",
       "    </tr>\n",
       "    <tr>\n",
       "      <th>78</th>\n",
       "      <td>zolder</td>\n",
       "      <td>Zolder</td>\n",
       "      <td>{'lat': '50.9894', 'long': '5.25694'}</td>\n",
       "      <td>Belgium</td>\n",
       "    </tr>\n",
       "  </tbody>\n",
       "</table>\n",
       "<p>79 rows × 4 columns</p>\n",
       "</div>"
      ],
      "text/plain": [
       "             ID                            Name  \\\n",
       "0      adelaide         Adelaide Street Circuit   \n",
       "1      ain-diab                        Ain Diab   \n",
       "2       aintree                         Aintree   \n",
       "3   albert_park  Albert Park Grand Prix Circuit   \n",
       "4      americas         Circuit of the Americas   \n",
       "..          ...                             ...   \n",
       "74   yas_marina              Yas Marina Circuit   \n",
       "75      yeongam    Korean International Circuit   \n",
       "76    zandvoort          Circuit Park Zandvoort   \n",
       "77      zeltweg                         Zeltweg   \n",
       "78       zolder                          Zolder   \n",
       "\n",
       "                                       Geo      Country  \n",
       "0   {'lat': '-34.9272', 'long': '138.617'}    Australia  \n",
       "1    {'lat': '33.5786', 'long': '-7.6875'}      Morocco  \n",
       "2   {'lat': '53.4769', 'long': '-2.94056'}           UK  \n",
       "3   {'lat': '-37.8497', 'long': '144.968'}    Australia  \n",
       "4   {'lat': '30.1328', 'long': '-97.6411'}          USA  \n",
       "..                                     ...          ...  \n",
       "74   {'lat': '24.4672', 'long': '54.6031'}          UAE  \n",
       "75   {'lat': '34.7333', 'long': '126.417'}        Korea  \n",
       "76   {'lat': '52.3888', 'long': '4.54092'}  Netherlands  \n",
       "77   {'lat': '47.2039', 'long': '14.7478'}      Austria  \n",
       "78   {'lat': '50.9894', 'long': '5.25694'}      Belgium  \n",
       "\n",
       "[79 rows x 4 columns]"
      ]
     },
     "execution_count": 70,
     "metadata": {},
     "output_type": "execute_result"
    }
   ],
   "source": [
    "circuits = []\n",
    "for i in range(len(tree[0])):\n",
    "    circuitId = tree[0][i].attrib['circuitId']\n",
    "    circuit = tree[0][i].find('{http://ergast.com/mrd/1.5}CircuitName').text\n",
    "    geo = tree[0][i].find('{http://ergast.com/mrd/1.5}Location').attrib\n",
    "    country = tree[0][i].find('{http://ergast.com/mrd/1.5}Location').find('{http://ergast.com/mrd/1.5}Country').text\n",
    "    circuits.append([circuitId, circuit, geo, country])\n",
    "\n",
    "pd.DataFrame(circuits, columns=['ID', 'Name', 'Geo', 'Country'])"
   ]
  },
  {
   "cell_type": "code",
   "execution_count": 55,
   "metadata": {},
   "outputs": [
    {
     "name": "stdout",
     "output_type": "stream",
     "text": [
      "33.5786\n",
      "-7.6875\n"
     ]
    }
   ],
   "source": [
    "print(float(circuits_dataframe[circuits_dataframe['Name'] == 'Ain Diab']['Geo'].values[0]['lat']))\n",
    "print(float(circuits_dataframe[circuits_dataframe['Name'] == 'Ain Diab']['Geo'].values[0]['long']))"
   ]
  },
  {
   "cell_type": "code",
   "execution_count": 40,
   "metadata": {},
   "outputs": [
    {
     "data": {
      "text/plain": [
       "['Autódromo José Carlos Pace', 'Autódromo Internacional Nelson Piquet']"
      ]
     },
     "execution_count": 40,
     "metadata": {},
     "output_type": "execute_result"
    }
   ],
   "source": [
    "list(circuits_dataframe[circuits_dataframe['Country'] == 'Brazil']['Name'])"
   ]
  },
  {
   "cell_type": "markdown",
   "metadata": {},
   "source": [
    "#### Requesting circuit detail"
   ]
  },
  {
   "cell_type": "code",
   "execution_count": 113,
   "metadata": {},
   "outputs": [],
   "source": [
    "data = requests.request(\"GET\", 'http://ergast.com/api/f1/1962/circuits/aintree/results?limit=1000').text\n",
    "\n",
    "tree = ET.fromstring(data)"
   ]
  },
  {
   "cell_type": "code",
   "execution_count": 106,
   "metadata": {},
   "outputs": [
    {
     "data": {
      "text/plain": [
       "[<Element '{http://ergast.com/mrd/1.5}Result' at 0x00000252719318B0>,\n",
       " <Element '{http://ergast.com/mrd/1.5}Result' at 0x0000025271931360>,\n",
       " <Element '{http://ergast.com/mrd/1.5}Result' at 0x0000025271933040>,\n",
       " <Element '{http://ergast.com/mrd/1.5}Result' at 0x00000252719334A0>,\n",
       " <Element '{http://ergast.com/mrd/1.5}Result' at 0x0000025271933A40>,\n",
       " <Element '{http://ergast.com/mrd/1.5}Result' at 0x0000025271933F90>,\n",
       " <Element '{http://ergast.com/mrd/1.5}Result' at 0x00000252719372C0>,\n",
       " <Element '{http://ergast.com/mrd/1.5}Result' at 0x0000025271937900>,\n",
       " <Element '{http://ergast.com/mrd/1.5}Result' at 0x0000025271937C70>,\n",
       " <Element '{http://ergast.com/mrd/1.5}Result' at 0x000002527192C950>,\n",
       " <Element '{http://ergast.com/mrd/1.5}Result' at 0x00000252719144F0>,\n",
       " <Element '{http://ergast.com/mrd/1.5}Result' at 0x0000025271914B80>,\n",
       " <Element '{http://ergast.com/mrd/1.5}Result' at 0x00000252719182C0>,\n",
       " <Element '{http://ergast.com/mrd/1.5}Result' at 0x0000025271918810>,\n",
       " <Element '{http://ergast.com/mrd/1.5}Result' at 0x0000025271918E00>,\n",
       " <Element '{http://ergast.com/mrd/1.5}Result' at 0x0000025271921130>,\n",
       " <Element '{http://ergast.com/mrd/1.5}Result' at 0x0000025271921540>,\n",
       " <Element '{http://ergast.com/mrd/1.5}Result' at 0x0000025271921B30>,\n",
       " <Element '{http://ergast.com/mrd/1.5}Result' at 0x0000025271923950>,\n",
       " <Element '{http://ergast.com/mrd/1.5}Result' at 0x0000025271923DB0>,\n",
       " <Element '{http://ergast.com/mrd/1.5}Result' at 0x0000025271923180>,\n",
       " <Element '{http://ergast.com/mrd/1.5}Result' at 0x0000025271923720>,\n",
       " <Element '{http://ergast.com/mrd/1.5}Result' at 0x000002527193E270>,\n",
       " <Element '{http://ergast.com/mrd/1.5}Result' at 0x0000025275C18F90>,\n",
       " <Element '{http://ergast.com/mrd/1.5}Result' at 0x0000025275C18A90>,\n",
       " <Element '{http://ergast.com/mrd/1.5}Result' at 0x0000025275C18770>]"
      ]
     },
     "execution_count": 106,
     "metadata": {},
     "output_type": "execute_result"
    }
   ],
   "source": [
    "tree[0][0].find('{http://ergast.com/mrd/1.5}ResultsList').findall('{http://ergast.com/mrd/1.5}Result')"
   ]
  },
  {
   "cell_type": "code",
   "execution_count": 114,
   "metadata": {},
   "outputs": [
    {
     "data": {
      "text/html": [
       "<div>\n",
       "<style scoped>\n",
       "    .dataframe tbody tr th:only-of-type {\n",
       "        vertical-align: middle;\n",
       "    }\n",
       "\n",
       "    .dataframe tbody tr th {\n",
       "        vertical-align: top;\n",
       "    }\n",
       "\n",
       "    .dataframe thead th {\n",
       "        text-align: right;\n",
       "    }\n",
       "</style>\n",
       "<table border=\"1\" class=\"dataframe\">\n",
       "  <thead>\n",
       "    <tr style=\"text-align: right;\">\n",
       "      <th></th>\n",
       "      <th>0</th>\n",
       "      <th>1</th>\n",
       "      <th>2</th>\n",
       "      <th>3</th>\n",
       "      <th>4</th>\n",
       "    </tr>\n",
       "  </thead>\n",
       "  <tbody>\n",
       "    <tr>\n",
       "      <th>0</th>\n",
       "      <td>1</td>\n",
       "      <td>20</td>\n",
       "      <td>Jim Clark</td>\n",
       "      <td>Lotus-Climax</td>\n",
       "      <td>🥇</td>\n",
       "    </tr>\n",
       "    <tr>\n",
       "      <th>1</th>\n",
       "      <td>2</td>\n",
       "      <td>24</td>\n",
       "      <td>John Surtees</td>\n",
       "      <td>Lola</td>\n",
       "      <td>🥈</td>\n",
       "    </tr>\n",
       "    <tr>\n",
       "      <th>2</th>\n",
       "      <td>3</td>\n",
       "      <td>16</td>\n",
       "      <td>Bruce McLaren</td>\n",
       "      <td>Cooper-Climax</td>\n",
       "      <td>🥉</td>\n",
       "    </tr>\n",
       "    <tr>\n",
       "      <th>3</th>\n",
       "      <td>4</td>\n",
       "      <td>12</td>\n",
       "      <td>Graham Hill</td>\n",
       "      <td>BRM</td>\n",
       "      <td></td>\n",
       "    </tr>\n",
       "    <tr>\n",
       "      <th>4</th>\n",
       "      <td>5</td>\n",
       "      <td>30</td>\n",
       "      <td>Jack Brabham</td>\n",
       "      <td>Lotus-Climax</td>\n",
       "      <td></td>\n",
       "    </tr>\n",
       "    <tr>\n",
       "      <th>5</th>\n",
       "      <td>6</td>\n",
       "      <td>18</td>\n",
       "      <td>Tony Maggs</td>\n",
       "      <td>Cooper-Climax</td>\n",
       "      <td></td>\n",
       "    </tr>\n",
       "    <tr>\n",
       "      <th>6</th>\n",
       "      <td>7</td>\n",
       "      <td>34</td>\n",
       "      <td>Masten Gregory</td>\n",
       "      <td>Lotus-Climax</td>\n",
       "      <td></td>\n",
       "    </tr>\n",
       "    <tr>\n",
       "      <th>7</th>\n",
       "      <td>8</td>\n",
       "      <td>22</td>\n",
       "      <td>Trevor Taylor</td>\n",
       "      <td>Lotus-Climax</td>\n",
       "      <td></td>\n",
       "    </tr>\n",
       "    <tr>\n",
       "      <th>8</th>\n",
       "      <td>9</td>\n",
       "      <td>8</td>\n",
       "      <td>Dan Gurney</td>\n",
       "      <td>Porsche</td>\n",
       "      <td></td>\n",
       "    </tr>\n",
       "    <tr>\n",
       "      <th>9</th>\n",
       "      <td>10</td>\n",
       "      <td>42</td>\n",
       "      <td>Jackie Lewis</td>\n",
       "      <td>Cooper-Climax</td>\n",
       "      <td></td>\n",
       "    </tr>\n",
       "    <tr>\n",
       "      <th>10</th>\n",
       "      <td>11</td>\n",
       "      <td>40</td>\n",
       "      <td>Tony Settember</td>\n",
       "      <td>Emeryson</td>\n",
       "      <td></td>\n",
       "    </tr>\n",
       "    <tr>\n",
       "      <th>11</th>\n",
       "      <td>12</td>\n",
       "      <td>36</td>\n",
       "      <td>Ian Burgess</td>\n",
       "      <td>Cooper-Climax</td>\n",
       "      <td></td>\n",
       "    </tr>\n",
       "    <tr>\n",
       "      <th>12</th>\n",
       "      <td>13</td>\n",
       "      <td>14</td>\n",
       "      <td>Richie Ginther</td>\n",
       "      <td>BRM</td>\n",
       "      <td></td>\n",
       "    </tr>\n",
       "    <tr>\n",
       "      <th>13</th>\n",
       "      <td>14</td>\n",
       "      <td>54</td>\n",
       "      <td>Carel Godin de Beaufort</td>\n",
       "      <td>Porsche</td>\n",
       "      <td></td>\n",
       "    </tr>\n",
       "    <tr>\n",
       "      <th>14</th>\n",
       "      <td>15</td>\n",
       "      <td>46</td>\n",
       "      <td>Jay Chamberlain</td>\n",
       "      <td>Lotus-Climax</td>\n",
       "      <td></td>\n",
       "    </tr>\n",
       "    <tr>\n",
       "      <th>15</th>\n",
       "      <td>16</td>\n",
       "      <td>32</td>\n",
       "      <td>Innes Ireland</td>\n",
       "      <td>Lotus-Climax</td>\n",
       "      <td></td>\n",
       "    </tr>\n",
       "    <tr>\n",
       "      <th>16</th>\n",
       "      <td>17</td>\n",
       "      <td>2</td>\n",
       "      <td>Phil Hill</td>\n",
       "      <td>Ferrari</td>\n",
       "      <td></td>\n",
       "    </tr>\n",
       "    <tr>\n",
       "      <th>17</th>\n",
       "      <td>18</td>\n",
       "      <td>26</td>\n",
       "      <td>Roy Salvadori</td>\n",
       "      <td>Lola</td>\n",
       "      <td></td>\n",
       "    </tr>\n",
       "    <tr>\n",
       "      <th>18</th>\n",
       "      <td>19</td>\n",
       "      <td>10</td>\n",
       "      <td>Jo Bonnier</td>\n",
       "      <td>Porsche</td>\n",
       "      <td></td>\n",
       "    </tr>\n",
       "    <tr>\n",
       "      <th>19</th>\n",
       "      <td>20</td>\n",
       "      <td>44</td>\n",
       "      <td>Wolfgang Seidel</td>\n",
       "      <td>Lotus-BRM</td>\n",
       "      <td></td>\n",
       "    </tr>\n",
       "    <tr>\n",
       "      <th>20</th>\n",
       "      <td>21</td>\n",
       "      <td>48</td>\n",
       "      <td>Tony Shelly</td>\n",
       "      <td>Lotus-Climax</td>\n",
       "      <td></td>\n",
       "    </tr>\n",
       "    <tr>\n",
       "      <th>21</th>\n",
       "      <td>22</td>\n",
       "      <td>48</td>\n",
       "      <td>Keith Greene</td>\n",
       "      <td>Lotus-Climax</td>\n",
       "      <td></td>\n",
       "    </tr>\n",
       "    <tr>\n",
       "      <th>22</th>\n",
       "      <td>23</td>\n",
       "      <td>28</td>\n",
       "      <td>Maurice Trintignant</td>\n",
       "      <td>Lotus-Climax</td>\n",
       "      <td></td>\n",
       "    </tr>\n",
       "    <tr>\n",
       "      <th>23</th>\n",
       "      <td>24</td>\n",
       "      <td>38</td>\n",
       "      <td>John Campbell-Jones</td>\n",
       "      <td>Emeryson</td>\n",
       "      <td></td>\n",
       "    </tr>\n",
       "    <tr>\n",
       "      <th>24</th>\n",
       "      <td>25</td>\n",
       "      <td>50</td>\n",
       "      <td>Keith Greene</td>\n",
       "      <td>Gilby</td>\n",
       "      <td></td>\n",
       "    </tr>\n",
       "    <tr>\n",
       "      <th>25</th>\n",
       "      <td>26</td>\n",
       "      <td>52</td>\n",
       "      <td>Jo Siffert</td>\n",
       "      <td>Lotus-BRM</td>\n",
       "      <td></td>\n",
       "    </tr>\n",
       "  </tbody>\n",
       "</table>\n",
       "</div>"
      ],
      "text/plain": [
       "     0   1                        2              3  4\n",
       "0    1  20                Jim Clark   Lotus-Climax  🥇\n",
       "1    2  24             John Surtees           Lola  🥈\n",
       "2    3  16            Bruce McLaren  Cooper-Climax  🥉\n",
       "3    4  12              Graham Hill            BRM   \n",
       "4    5  30             Jack Brabham   Lotus-Climax   \n",
       "5    6  18               Tony Maggs  Cooper-Climax   \n",
       "6    7  34           Masten Gregory   Lotus-Climax   \n",
       "7    8  22            Trevor Taylor   Lotus-Climax   \n",
       "8    9   8               Dan Gurney        Porsche   \n",
       "9   10  42             Jackie Lewis  Cooper-Climax   \n",
       "10  11  40           Tony Settember       Emeryson   \n",
       "11  12  36              Ian Burgess  Cooper-Climax   \n",
       "12  13  14           Richie Ginther            BRM   \n",
       "13  14  54  Carel Godin de Beaufort        Porsche   \n",
       "14  15  46          Jay Chamberlain   Lotus-Climax   \n",
       "15  16  32            Innes Ireland   Lotus-Climax   \n",
       "16  17   2                Phil Hill        Ferrari   \n",
       "17  18  26            Roy Salvadori           Lola   \n",
       "18  19  10               Jo Bonnier        Porsche   \n",
       "19  20  44          Wolfgang Seidel      Lotus-BRM   \n",
       "20  21  48              Tony Shelly   Lotus-Climax   \n",
       "21  22  48             Keith Greene   Lotus-Climax   \n",
       "22  23  28      Maurice Trintignant   Lotus-Climax   \n",
       "23  24  38      John Campbell-Jones       Emeryson   \n",
       "24  25  50             Keith Greene          Gilby   \n",
       "25  26  52               Jo Siffert      Lotus-BRM   "
      ]
     },
     "execution_count": 114,
     "metadata": {},
     "output_type": "execute_result"
    }
   ],
   "source": [
    "details = []\n",
    "for i in tree[0][0].find('{http://ergast.com/mrd/1.5}ResultsList').findall('{http://ergast.com/mrd/1.5}Result'):\n",
    "    position = i.attrib['position']\n",
    "    number = i.attrib['number']\n",
    "    name = i.find('{http://ergast.com/mrd/1.5}Driver').find('{http://ergast.com/mrd/1.5}GivenName').text\n",
    "    last_name = i.find('{http://ergast.com/mrd/1.5}Driver').find('{http://ergast.com/mrd/1.5}FamilyName').text\n",
    "    constructor = i.find('{http://ergast.com/mrd/1.5}Constructor').find('{http://ergast.com/mrd/1.5}Name').text\n",
    "    emoji = '🥇' if position == '1' else '🥈' if position == '2' else '🥉' if position == '3' else ' '\n",
    "    details.append([position, number, (name + ' ' + last_name), constructor, emoji])\n",
    "\n",
    "pd.DataFrame(details)"
   ]
  }
 ],
 "metadata": {
  "interpreter": {
   "hash": "91c7cbe9a0ed807bfe4cef66966ba7075896341a8f5fdff92744b04ac27d39b0"
  },
  "kernelspec": {
   "display_name": "Python 3.8.13 ('streamlit')",
   "language": "python",
   "name": "python3"
  },
  "language_info": {
   "codemirror_mode": {
    "name": "ipython",
    "version": 3
   },
   "file_extension": ".py",
   "mimetype": "text/x-python",
   "name": "python",
   "nbconvert_exporter": "python",
   "pygments_lexer": "ipython3",
   "version": "3.8.13"
  },
  "orig_nbformat": 4
 },
 "nbformat": 4,
 "nbformat_minor": 2
}
